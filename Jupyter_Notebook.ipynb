{
 "cells": [
  {
   "cell_type": "markdown",
   "metadata": {},
   "source": [
    "<center>\n",
    "    <img src=\"https://cf-courses-data.s3.us.cloud-object-storage.appdomain.cloud/IBMDeveloperSkillsNetwork-DS0105EN-SkillsNetwork/labs/Module2/images/SN_web_lightmode.png\" width=\"300\" alt=\"cognitiveclass.ai logo\">\n",
    "</center>\n"
   ]
  },
  {
   "cell_type": "markdown",
   "metadata": {},
   "source": [
    "#### Add your code below following the instructions given in the course\n"
   ]
  },
  {
   "cell_type": "markdown",
   "metadata": {},
   "source": [
    "# The Assignment for the Tools of Data Analysis. "
   ]
  },
  {
   "cell_type": "markdown",
   "metadata": {},
   "source": [
    "## Introduction"
   ]
  },
  {
   "cell_type": "markdown",
   "metadata": {},
   "source": [
    "There are three different langauges of Data Science which include (1) Python (2) R Programming (3) Julia (4) Scala (5) MATLAB (6) SQL"
   ]
  },
  {
   "cell_type": "markdown",
   "metadata": {},
   "source": [
    "The Data Sceince Libraries includes (1) NumPy (2) Pandas (3) Matplotlib (4) Seaborn (5) Scikit-learn (6) TensorFlow (7) PyTorch"
   ]
  },
  {
   "cell_type": "code",
   "execution_count": 15,
   "metadata": {},
   "outputs": [
    {
     "data": {
      "text/markdown": [
       "| Tool        | Description                                                      |\n",
       "|-------------|------------------------------------------------------------------|\n",
       "| Jupyter     | Interactive notebooks for data science                            |\n",
       "| Tableau     | Data visualization and business intelligence software            |\n",
       "| Power BI    | Business analytics service by Microsoft                           |\n",
       "| Git         | Version control system                                           |\n",
       "| Apache Spark| Distributed computing system for big data processing             |\n",
       "| Hadoop      | Open-source software framework for storing and processing big data|\n"
      ],
      "text/plain": [
       "<IPython.core.display.Markdown object>"
      ]
     },
     "metadata": {},
     "output_type": "display_data"
    }
   ],
   "source": [
    "from IPython.display import Markdown\n",
    "\n",
    "table_md = \"| Tool        | Description                                                      |\\n\"\n",
    "table_md += \"|-------------|------------------------------------------------------------------|\\n\"\n",
    "table_md += \"| Jupyter     | Interactive notebooks for data science                            |\\n\"\n",
    "table_md += \"| Tableau     | Data visualization and business intelligence software            |\\n\"\n",
    "table_md += \"| Power BI    | Business analytics service by Microsoft                           |\\n\"\n",
    "table_md += \"| Git         | Version control system                                           |\\n\"\n",
    "table_md += \"| Apache Spark| Distributed computing system for big data processing             |\\n\"\n",
    "table_md += \"| Hadoop      | Open-source software framework for storing and processing big data|\\n\"\n",
    "\n",
    "display(Markdown(table_md))\n"
   ]
  },
  {
   "cell_type": "markdown",
   "metadata": {},
   "source": [
    "print (2+4)"
   ]
  },
  {
   "cell_type": "code",
   "execution_count": 20,
   "metadata": {},
   "outputs": [
    {
     "name": "stdout",
     "output_type": "stream",
     "text": [
      "17\n"
     ]
    }
   ],
   "source": [
    "# Multiplication and addition\n",
    "x = 5\n",
    "y = 3\n",
    "z = x * y + 2\n",
    "print(z)  # Output: 17\n"
   ]
  },
  {
   "cell_type": "code",
   "execution_count": 19,
   "metadata": {},
   "outputs": [
    {
     "name": "stdout",
     "output_type": "stream",
     "text": [
      "2.5\n"
     ]
    }
   ],
   "source": [
    "# Conversion of minutes to hours\n",
    "minutes = 150\n",
    "hours = minutes / 60\n",
    "print(hours)  # Output: 2.5\n"
   ]
  },
  {
   "cell_type": "markdown",
   "metadata": {},
   "source": [
    "# Objectives\n",
    "\n",
    "1- Understand popular programming languages, libraries, and tools used in data science.\n",
    "2- Learn how to perform arithmetic operations and conversions.\n",
    "3- Apply data science concepts to real-world problems."
   ]
  },
  {
   "cell_type": "markdown",
   "metadata": {},
   "source": [
    "Junaid Ahmed "
   ]
  }
 ],
 "metadata": {
  "kernelspec": {
   "display_name": "Python",
   "language": "python",
   "name": "conda-env-python-py"
  },
  "language_info": {
   "codemirror_mode": {
    "name": "ipython",
    "version": 3
   },
   "file_extension": ".py",
   "mimetype": "text/x-python",
   "name": "python",
   "nbconvert_exporter": "python",
   "pygments_lexer": "ipython3",
   "version": "3.7.12"
  }
 },
 "nbformat": 4,
 "nbformat_minor": 4
}
